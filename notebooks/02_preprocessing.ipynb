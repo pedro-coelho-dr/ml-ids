{
 "cells": [
  {
   "cell_type": "markdown",
   "id": "cdc205af",
   "metadata": {},
   "source": [
    "# Pré-processamento\n",
    "\n",
    "Notebook: [notebooks/02_preprocessing.ipynb](../report/02_preprocessing.md)"
   ]
  },
  {
   "cell_type": "code",
   "execution_count": 1,
   "id": "85621e6b",
   "metadata": {},
   "outputs": [],
   "source": [
    "import pandas as pd\n",
    "import os\n",
    "from sklearn.preprocessing import MinMaxScaler, StandardScaler\n",
    "\n",
    "project_root = os.path.abspath(os.path.join(os.getcwd(), \"..\"))\n",
    "\n",
    "input_dir = os.path.join(project_root, \"data\", \"processed\")\n",
    "minmax_dir = os.path.join(project_root, \"data\", \"final\", \"minmax\")\n",
    "standard_dir = os.path.join(project_root, \"data\", \"final\", \"standard\")\n",
    "\n",
    "os.makedirs(minmax_dir, exist_ok=True)\n",
    "os.makedirs(standard_dir, exist_ok=True)\n",
    "\n",
    "files = [\n",
    "    \"KDDTrain+.csv\",\n",
    "    \"KDDTest+.csv\",\n",
    "    \"KDDTrain+_20Percent.csv\",\n",
    "    \"KDDTest-21.csv\"\n",
    "]\n"
   ]
  },
  {
   "cell_type": "markdown",
   "id": "02edbcc6",
   "metadata": {},
   "source": [
    "## Mapeamento das Classes de Ataque\n",
    "\n",
    "Agrupamento dos rótulos originais em 5 categorias principais, conforme metodologia do artigo base."
   ]
  },
  {
   "cell_type": "code",
   "execution_count": 2,
   "id": "3678e696",
   "metadata": {},
   "outputs": [],
   "source": [
    "attack_map = {\n",
    "    'normal': 'normal',\n",
    "    # DoS\n",
    "    'back': 'DoS', 'land': 'DoS', 'neptune': 'DoS', 'pod': 'DoS', 'smurf': 'DoS', 'teardrop': 'DoS',\n",
    "    'apache2': 'DoS', 'udpstorm': 'DoS', 'processtable': 'DoS', 'mailbomb': 'DoS',\n",
    "    # Probe\n",
    "    'satan': 'Probe', 'ipsweep': 'Probe', 'nmap': 'Probe', 'portsweep': 'Probe', 'mscan': 'Probe', 'saint': 'Probe',\n",
    "    # R2L\n",
    "    'ftp_write': 'R2L', 'guess_passwd': 'R2L', 'imap': 'R2L', 'multihop': 'R2L', 'phf': 'R2L', 'spy': 'R2L',\n",
    "    'warezclient': 'R2L', 'warezmaster': 'R2L', 'xlock': 'R2L', 'xsnoop': 'R2L', 'snmpguess': 'R2L',\n",
    "    'snmpgetattack': 'R2L', 'httptunnel': 'R2L', 'sendmail': 'R2L', 'named': 'R2L',\n",
    "    # U2R\n",
    "    'buffer_overflow': 'U2R', 'loadmodule': 'U2R', 'perl': 'U2R', 'rootkit': 'U2R',\n",
    "    'ps': 'U2R', 'sqlattack': 'U2R', 'xterm': 'U2R'\n",
    "}"
   ]
  },
  {
   "cell_type": "markdown",
   "id": "1ec1dbe8",
   "metadata": {},
   "source": [
    "## Função de Pré-processamento\n",
    "\n",
    "A função abaixo executa:\n",
    "- Remoção da coluna `difficulty` e `num_outbound_cmds`\n",
    "- Agrupamento dos serviços menos frequentes em \"other\"\n",
    "- One-hot encoding das variáveis categóricas\n",
    "- Normalização MinMax e Standard das variáveis numéricas\n",
    "- Salvamento dos arquivos finais prontos para modelagem"
   ]
  },
  {
   "cell_type": "code",
   "execution_count": 3,
   "id": "1d051e89",
   "metadata": {},
   "outputs": [],
   "source": [
    "def preprocess_dual_scaling(file_name):\n",
    "    df = pd.read_csv(os.path.join(input_dir, file_name))\n",
    "\n",
    "    if \"difficulty\" in df.columns:\n",
    "        df.drop(columns=[\"difficulty\"], inplace=True)\n",
    "\n",
    "    # Remover coluna com variância zero\n",
    "    if \"num_outbound_cmds\" in df.columns:\n",
    "        df.drop(columns=[\"num_outbound_cmds\"], inplace=True)\n",
    "\n",
    "    # Criar coluna de categoria\n",
    "    df[\"attack_category\"] = df[\"class\"].map(attack_map)\n",
    "\n",
    "    # Agrupar serviços menos comuns\n",
    "    top_services = df[\"service\"].value_counts().nlargest(10).index\n",
    "    df[\"service\"] = df[\"service\"].apply(lambda x: x if x in top_services else \"other\")\n",
    "\n",
    "    # One-hot nas categóricas\n",
    "    df = pd.get_dummies(df, columns=[\"protocol_type\", \"flag\", \"service\"], drop_first=False)\n",
    "\n",
    "    # Separar features e target\n",
    "    y = df[\"attack_category\"]\n",
    "    X = df.drop(columns=[\"class\", \"attack_category\"])\n",
    "\n",
    "    # Selecionar colunas numéricas\n",
    "    numeric_cols = X.select_dtypes(include=[\"int64\", \"float64\"]).columns\n",
    "\n",
    "    # Normalizações\n",
    "    for scaler, out_dir, label in [\n",
    "        (MinMaxScaler(), minmax_dir, \"minmax\"),\n",
    "        (StandardScaler(), standard_dir, \"standard\")\n",
    "    ]:\n",
    "        X_scaled = X.copy()\n",
    "        X_scaled[numeric_cols] = scaler.fit_transform(X_scaled[numeric_cols])\n",
    "\n",
    "        df_final = pd.concat([X_scaled, y], axis=1)\n",
    "\n",
    "        # 🔁 Convertendo booleanos para inteiros (0/1)\n",
    "        df_final = df_final.astype({col: int for col in df_final.select_dtypes('bool').columns})\n",
    "\n",
    "        out_name = file_name.replace(\".csv\", f\"_final_{label}.csv\")\n",
    "        out_path = os.path.join(out_dir, out_name)\n",
    "        df_final.to_csv(out_path, index=False)\n",
    "        print(f\"Salvo: {out_path}\")\n"
   ]
  },
  {
   "cell_type": "markdown",
   "id": "b04836c3",
   "metadata": {},
   "source": [
    "## Execução"
   ]
  },
  {
   "cell_type": "code",
   "execution_count": 4,
   "id": "68962ed0",
   "metadata": {},
   "outputs": [
    {
     "name": "stdout",
     "output_type": "stream",
     "text": [
      "Salvo: /home/corisco/cesar-school/ml-ids/data/final/minmax/KDDTrain+_final_minmax.csv\n",
      "Salvo: /home/corisco/cesar-school/ml-ids/data/final/standard/KDDTrain+_final_standard.csv\n",
      "Salvo: /home/corisco/cesar-school/ml-ids/data/final/minmax/KDDTest+_final_minmax.csv\n",
      "Salvo: /home/corisco/cesar-school/ml-ids/data/final/standard/KDDTest+_final_standard.csv\n",
      "Salvo: /home/corisco/cesar-school/ml-ids/data/final/minmax/KDDTrain+_20Percent_final_minmax.csv\n",
      "Salvo: /home/corisco/cesar-school/ml-ids/data/final/standard/KDDTrain+_20Percent_final_standard.csv\n",
      "Salvo: /home/corisco/cesar-school/ml-ids/data/final/minmax/KDDTest-21_final_minmax.csv\n",
      "Salvo: /home/corisco/cesar-school/ml-ids/data/final/standard/KDDTest-21_final_standard.csv\n"
     ]
    }
   ],
   "source": [
    "        \n",
    "for f in files:\n",
    "    preprocess_dual_scaling(f)"
   ]
  }
 ],
 "metadata": {
  "kernelspec": {
   "display_name": "ml-ids",
   "language": "python",
   "name": "python3"
  },
  "language_info": {
   "codemirror_mode": {
    "name": "ipython",
    "version": 3
   },
   "file_extension": ".py",
   "mimetype": "text/x-python",
   "name": "python",
   "nbconvert_exporter": "python",
   "pygments_lexer": "ipython3",
   "version": "3.11.11"
  }
 },
 "nbformat": 4,
 "nbformat_minor": 5
}
