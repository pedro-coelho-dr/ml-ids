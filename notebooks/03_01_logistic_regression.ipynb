{
 "cells": [
  {
   "cell_type": "code",
   "execution_count": 8,
   "id": "b66ca5c9",
   "metadata": {},
   "outputs": [],
   "source": [
    "import pandas as pd\n",
    "import numpy as np\n",
    "import matplotlib.pyplot as plt\n",
    "import seaborn as sns\n",
    "import warnings\n",
    "import time\n",
    "\n",
    "from sklearn.model_selection import train_test_split\n",
    "from sklearn.preprocessing import LabelEncoder\n",
    "from sklearn.metrics import (\n",
    "    classification_report, confusion_matrix, ConfusionMatrixDisplay,\n",
    "    accuracy_score, precision_score, recall_score, f1_score,\n",
    "    roc_auc_score, roc_curve, mean_squared_error\n",
    ")\n",
    "from sklearn.ensemble import RandomForestClassifier\n",
    "from sklearn.tree import DecisionTreeClassifier\n",
    "from sklearn.neighbors import KNeighborsClassifier\n",
    "from sklearn.linear_model import LogisticRegression\n",
    "from sklearn.neural_network import MLPClassifier\n",
    "from sklearn.model_selection import GridSearchCV\n",
    "\n",
    "warnings.filterwarnings(\"ignore\")\n"
   ]
  },
  {
   "cell_type": "code",
   "execution_count": 9,
   "id": "37a973b4",
   "metadata": {},
   "outputs": [],
   "source": [
    "def load_dataset(scaler=\"minmax\", strategy=\"split\"):\n",
    "    \"\"\"\n",
    "    Carrega os datasets NSL-KDD com duas estratégias:\n",
    "    - 'split': carrega apenas o arquivo de treino e faz split em treino e validação\n",
    "    - 'merge': carrega treino e teste reais e faz codificação alinhada\n",
    "    \"\"\"\n",
    "    assert scaler in [\"minmax\", \"standard\"], \"Escala inválida\"\n",
    "    assert strategy in [\"split\", \"merge\"], \"Estratégia deve ser 'split' ou 'merge'\"\n",
    "    \n",
    "    base_path = f\"../data/final/{scaler}\"\n",
    "    train_path = f\"{base_path}/KDDTrain+_final_{scaler}.csv\"\n",
    "    test_path = f\"{base_path}/KDDTest+_final_{scaler}.csv\"\n",
    "\n",
    "    if strategy == \"split\":\n",
    "        df = pd.read_csv(train_path)\n",
    "        print(f\"[SPLIT] Escala usada: {scaler}\")\n",
    "        print(\"Dataset carregado:\", df.shape)\n",
    "\n",
    "        # Split em treino e validação\n",
    "        df_train, df_test = train_test_split(\n",
    "            df, test_size=0.2, random_state=1, stratify=df[\"attack_category\"]\n",
    "        )\n",
    "        print(\"Train split:\", df_train.shape)\n",
    "        print(\"Validação split:\", df_test.shape)\n",
    "\n",
    "        return df_train.reset_index(drop=True), df_test.reset_index(drop=True)\n",
    "\n",
    "    else:  # strategy == \"merge\"\n",
    "        df_train = pd.read_csv(train_path)\n",
    "        df_test = pd.read_csv(test_path)\n",
    "\n",
    "        df_train[\"__origin__\"] = \"train\"\n",
    "        df_test[\"__origin__\"] = \"test\"\n",
    "\n",
    "        df_all = pd.concat([df_train, df_test], axis=0)\n",
    "\n",
    "        origin = df_all[\"__origin__\"]\n",
    "        target = df_all[\"attack_category\"]\n",
    "        df_all = df_all.drop(columns=[\"__origin__\", \"attack_category\"])\n",
    "\n",
    "        df_all = pd.get_dummies(df_all)\n",
    "        df_all = df_all.fillna(0)\n",
    "\n",
    "        df_all[\"attack_category\"] = target.values\n",
    "        df_all[\"__origin__\"] = origin.values\n",
    "\n",
    "        df_train_final = df_all[df_all[\"__origin__\"] == \"train\"].drop(columns=\"__origin__\")\n",
    "        df_test_final = df_all[df_all[\"__origin__\"] == \"test\"].drop(columns=\"__origin__\")\n",
    "\n",
    "        print(f\"[MERGE] Escala usada: {scaler}\")\n",
    "        print(\"Train final:\", df_train_final.shape)\n",
    "        print(\"Test final :\", df_test_final.shape)\n",
    "\n",
    "        return df_train_final.reset_index(drop=True), df_test_final.reset_index(drop=True)"
   ]
  },
  {
   "cell_type": "code",
   "execution_count": 10,
   "id": "7760709d",
   "metadata": {},
   "outputs": [
    {
     "name": "stdout",
     "output_type": "stream",
     "text": [
      "[SPLIT] Escala usada: minmax\n",
      "Dataset carregado: (125973, 62)\n",
      "Train split: (100778, 62)\n",
      "Validação split: (25195, 62)\n",
      "[MERGE] Escala usada: minmax\n",
      "Train final: (125973, 64)\n",
      "Test final : (22544, 64)\n"
     ]
    }
   ],
   "source": [
    "# minmax or standard\n",
    "# Estratégia de split (KDDTrain+ somente)\n",
    "\n",
    "df_train, df_val = load_dataset(\"minmax\", strategy=\"split\")\n",
    "\n",
    "X_train = df_train.drop(columns=[\"attack_category\"])\n",
    "y_train = df_train[\"attack_category\"]\n",
    "\n",
    "X_val = df_val.drop(columns=[\"attack_category\"])\n",
    "y_val = df_val[\"attack_category\"]\n",
    "\n",
    "# Estratégia para avaliação final real (KDDTrain+ e KDDTest+ juntos)\n",
    "df_train_final, df_test_final = load_dataset(\"minmax\", strategy=\"merge\")\n",
    "\n",
    "X_train_final = df_train_final.drop(columns=[\"attack_category\"])\n",
    "y_train_final = df_train_final[\"attack_category\"]\n",
    "\n",
    "X_test_final = df_test_final.drop(columns=[\"attack_category\"])\n",
    "y_test_final = df_test_final[\"attack_category\"]"
   ]
  },
  {
   "cell_type": "markdown",
   "id": "6b48c74b",
   "metadata": {},
   "source": [
    "## 2. Logistic Regression"
   ]
  },
  {
   "cell_type": "code",
   "execution_count": 11,
   "id": "a6786519",
   "metadata": {},
   "outputs": [],
   "source": [
    "def run_grid_search(X, y, model, param_grid, cv=3, scoring='f1_macro'):\n",
    "    grid = GridSearchCV(\n",
    "        estimator=model,\n",
    "        param_grid=param_grid,\n",
    "        scoring=scoring,\n",
    "        cv=cv,\n",
    "        verbose=3,\n",
    "        n_jobs=-1,\n",
    "        return_train_score=True\n",
    "    )\n",
    "\n",
    "    start = time.time()\n",
    "    grid.fit(X, y)\n",
    "    duration = time.time() - start\n",
    "\n",
    "    results_df = pd.DataFrame(grid.cv_results_)\n",
    "    results_df = results_df.sort_values(by=\"mean_test_score\", ascending=False)\n",
    "\n",
    "    print(\"\\nMelhores parâmetros encontrados:\")\n",
    "    for k, v in grid.best_params_.items():\n",
    "        print(f\"  {k}: {v}\")\n",
    "    print(f\"\\nMelhor {scoring}: {grid.best_score_:.4f}\")\n",
    "    print(f\"Tempo total: {duration:.2f} segundos\")\n",
    "\n",
    "    display_columns = [\n",
    "        'mean_test_score', 'mean_train_score', 'std_test_score'\n",
    "    ] + [col for col in results_df.columns if col.startswith('param_')]\n",
    "\n",
    "    print(\"\\nTop 10 combinações:\")\n",
    "    display(results_df[display_columns].head(10))\n",
    "\n",
    "    return grid, results_df"
   ]
  },
  {
   "cell_type": "code",
   "execution_count": 13,
   "id": "325da845",
   "metadata": {},
   "outputs": [
    {
     "name": "stdout",
     "output_type": "stream",
     "text": [
      "Fitting 3 folds for each of 18 candidates, totalling 54 fits\n",
      "[CV 1/3] END C=0.1, class_weight=None, max_iter=200, penalty=l2, solver=lbfgs;, score=(train=0.693, test=0.683) total time=   2.7s\n",
      "[CV 3/3] END C=0.1, class_weight=None, max_iter=200, penalty=l2, solver=lbfgs;, score=(train=0.672, test=0.674) total time=   2.7s\n",
      "[CV 2/3] END C=0.1, class_weight=None, max_iter=200, penalty=l2, solver=lbfgs;, score=(train=0.677, test=0.676) total time=   2.7s\n",
      "[CV 3/3] END C=0.1, class_weight=balanced, max_iter=200, penalty=l2, solver=lbfgs;, score=(train=0.675, test=0.664) total time=   3.8s\n",
      "[CV 1/3] END C=0.1, class_weight=balanced, max_iter=200, penalty=l2, solver=lbfgs;, score=(train=0.658, test=0.658) total time=   4.1s\n",
      "[CV 2/3] END C=0.1, class_weight=balanced, max_iter=200, penalty=l2, solver=lbfgs;, score=(train=0.661, test=0.661) total time=   4.5s\n",
      "[CV 1/3] END C=0.1, class_weight=None, max_iter=200, penalty=l2, solver=saga;, score=(train=0.695, test=0.685) total time=   7.0s\n",
      "[CV 2/3] END C=0.1, class_weight=None, max_iter=200, penalty=l2, solver=saga;, score=(train=0.680, test=0.680) total time=   7.1s\n",
      "[CV 3/3] END C=0.1, class_weight=None, max_iter=200, penalty=l2, solver=saga;, score=(train=0.675, test=0.678) total time=   7.3s\n",
      "[CV 1/3] END C=0.1, class_weight=None, max_iter=200, penalty=l2, solver=liblinear;, score=(train=0.596, test=0.596) total time=   7.7s\n",
      "[CV 2/3] END C=0.1, class_weight=None, max_iter=200, penalty=l2, solver=liblinear;, score=(train=0.591, test=0.586) total time=   7.7s\n",
      "[CV 3/3] END C=0.1, class_weight=None, max_iter=200, penalty=l2, solver=liblinear;, score=(train=0.591, test=0.589) total time=   7.8s\n",
      "[CV 1/3] END C=1.0, class_weight=None, max_iter=200, penalty=l2, solver=lbfgs;, score=(train=0.843, test=0.846) total time=   2.9s\n",
      "[CV 1/3] END C=0.1, class_weight=balanced, max_iter=200, penalty=l2, solver=liblinear;, score=(train=0.749, test=0.752) total time=   8.1s\n",
      "[CV 2/3] END C=0.1, class_weight=balanced, max_iter=200, penalty=l2, solver=liblinear;, score=(train=0.752, test=0.754) total time=   8.7s\n",
      "[CV 3/3] END C=0.1, class_weight=balanced, max_iter=200, penalty=l2, solver=liblinear;, score=(train=0.766, test=0.751) total time=   9.0s\n",
      "[CV 2/3] END C=1.0, class_weight=None, max_iter=200, penalty=l2, solver=lbfgs;, score=(train=0.838, test=0.844) total time=   3.2s\n",
      "[CV 3/3] END C=1.0, class_weight=None, max_iter=200, penalty=l2, solver=lbfgs;, score=(train=0.858, test=0.824) total time=   3.4s\n",
      "[CV 1/3] END C=1.0, class_weight=None, max_iter=200, penalty=l2, solver=liblinear;, score=(train=0.745, test=0.751) total time=   9.5s\n",
      "[CV 2/3] END C=1.0, class_weight=None, max_iter=200, penalty=l2, solver=liblinear;, score=(train=0.748, test=0.741) total time=   8.6s\n",
      "[CV 3/3] END C=1.0, class_weight=None, max_iter=200, penalty=l2, solver=liblinear;, score=(train=0.755, test=0.740) total time=   8.9s\n",
      "[CV 1/3] END C=1.0, class_weight=balanced, max_iter=200, penalty=l2, solver=lbfgs;, score=(train=0.673, test=0.668) total time=   4.8s\n",
      "[CV 2/3] END C=1.0, class_weight=balanced, max_iter=200, penalty=l2, solver=lbfgs;, score=(train=0.676, test=0.672) total time=   4.9s\n",
      "[CV 3/3] END C=1.0, class_weight=balanced, max_iter=200, penalty=l2, solver=lbfgs;, score=(train=0.693, test=0.682) total time=   4.9s\n",
      "[CV 3/3] END C=1.0, class_weight=balanced, max_iter=200, penalty=l2, solver=liblinear;, score=(train=0.779, test=0.762) total time=   9.4s\n",
      "[CV 1/3] END C=1.0, class_weight=balanced, max_iter=200, penalty=l2, solver=liblinear;, score=(train=0.793, test=0.803) total time=   9.8s\n",
      "[CV 2/3] END C=1.0, class_weight=balanced, max_iter=200, penalty=l2, solver=liblinear;, score=(train=0.761, test=0.777) total time=  10.0s\n",
      "[CV 1/3] END C=10.0, class_weight=None, max_iter=200, penalty=l2, solver=lbfgs;, score=(train=0.884, test=0.868) total time=   4.8s\n",
      "[CV 3/3] END C=10.0, class_weight=None, max_iter=200, penalty=l2, solver=lbfgs;, score=(train=0.887, test=0.846) total time=   3.6s\n",
      "[CV 2/3] END C=10.0, class_weight=None, max_iter=200, penalty=l2, solver=lbfgs;, score=(train=0.874, test=0.831) total time=   4.0s\n",
      "[CV 2/3] END C=10.0, class_weight=None, max_iter=200, penalty=l2, solver=liblinear;, score=(train=0.826, test=0.829) total time=   9.0s\n",
      "[CV 1/3] END C=10.0, class_weight=None, max_iter=200, penalty=l2, solver=liblinear;, score=(train=0.838, test=0.833) total time=   9.5s\n",
      "[CV 3/3] END C=10.0, class_weight=None, max_iter=200, penalty=l2, solver=liblinear;, score=(train=0.843, test=0.804) total time=   9.3s\n"
     ]
    },
    {
     "name": "stderr",
     "output_type": "stream",
     "text": [
      "/home/corisco/miniconda3/envs/ml-ids/lib/python3.11/site-packages/sklearn/linear_model/_logistic.py:465: ConvergenceWarning: lbfgs failed to converge (status=1):\n",
      "STOP: TOTAL NO. OF ITERATIONS REACHED LIMIT.\n",
      "\n",
      "Increase the number of iterations (max_iter) or scale the data as shown in:\n",
      "    https://scikit-learn.org/stable/modules/preprocessing.html\n",
      "Please also refer to the documentation for alternative solver options:\n",
      "    https://scikit-learn.org/stable/modules/linear_model.html#logistic-regression\n",
      "  n_iter_i = _check_optimize_result(\n"
     ]
    },
    {
     "name": "stdout",
     "output_type": "stream",
     "text": [
      "[CV 1/3] END C=10.0, class_weight=balanced, max_iter=200, penalty=l2, solver=lbfgs;, score=(train=0.687, test=0.685) total time=   5.0s\n",
      "[CV 1/3] END C=10.0, class_weight=balanced, max_iter=200, penalty=l2, solver=liblinear;, score=(train=0.792, test=0.800) total time=   9.6s\n",
      "[CV 2/3] END C=10.0, class_weight=balanced, max_iter=200, penalty=l2, solver=liblinear;, score=(train=0.752, test=0.772) total time=   8.9s\n",
      "[CV 3/3] END C=10.0, class_weight=balanced, max_iter=200, penalty=l2, solver=liblinear;, score=(train=0.782, test=0.765) total time=   9.2s\n",
      "[CV 1/3] END C=1.0, class_weight=None, max_iter=200, penalty=l2, solver=saga;, score=(train=0.845, test=0.848) total time=  26.3s\n"
     ]
    },
    {
     "name": "stderr",
     "output_type": "stream",
     "text": [
      "/home/corisco/miniconda3/envs/ml-ids/lib/python3.11/site-packages/sklearn/linear_model/_logistic.py:465: ConvergenceWarning: lbfgs failed to converge (status=1):\n",
      "STOP: TOTAL NO. OF ITERATIONS REACHED LIMIT.\n",
      "\n",
      "Increase the number of iterations (max_iter) or scale the data as shown in:\n",
      "    https://scikit-learn.org/stable/modules/preprocessing.html\n",
      "Please also refer to the documentation for alternative solver options:\n",
      "    https://scikit-learn.org/stable/modules/linear_model.html#logistic-regression\n",
      "  n_iter_i = _check_optimize_result(\n"
     ]
    },
    {
     "name": "stdout",
     "output_type": "stream",
     "text": [
      "[CV 2/3] END C=1.0, class_weight=None, max_iter=200, penalty=l2, solver=saga;, score=(train=0.847, test=0.845) total time=  26.2s\n",
      "[CV 2/3] END C=10.0, class_weight=balanced, max_iter=200, penalty=l2, solver=lbfgs;, score=(train=0.689, test=0.682) total time=   4.7s\n",
      "[CV 3/3] END C=1.0, class_weight=None, max_iter=200, penalty=l2, solver=saga;, score=(train=0.852, test=0.823) total time=  27.5s\n"
     ]
    },
    {
     "name": "stderr",
     "output_type": "stream",
     "text": [
      "/home/corisco/miniconda3/envs/ml-ids/lib/python3.11/site-packages/sklearn/linear_model/_logistic.py:465: ConvergenceWarning: lbfgs failed to converge (status=1):\n",
      "STOP: TOTAL NO. OF ITERATIONS REACHED LIMIT.\n",
      "\n",
      "Increase the number of iterations (max_iter) or scale the data as shown in:\n",
      "    https://scikit-learn.org/stable/modules/preprocessing.html\n",
      "Please also refer to the documentation for alternative solver options:\n",
      "    https://scikit-learn.org/stable/modules/linear_model.html#logistic-regression\n",
      "  n_iter_i = _check_optimize_result(\n"
     ]
    },
    {
     "name": "stdout",
     "output_type": "stream",
     "text": [
      "[CV 3/3] END C=10.0, class_weight=balanced, max_iter=200, penalty=l2, solver=lbfgs;, score=(train=0.706, test=0.692) total time=   4.2s\n"
     ]
    },
    {
     "name": "stderr",
     "output_type": "stream",
     "text": [
      "/home/corisco/miniconda3/envs/ml-ids/lib/python3.11/site-packages/sklearn/linear_model/_sag.py:348: ConvergenceWarning: The max_iter was reached which means the coef_ did not converge\n",
      "  warnings.warn(\n"
     ]
    },
    {
     "name": "stdout",
     "output_type": "stream",
     "text": [
      "[CV 1/3] END C=0.1, class_weight=balanced, max_iter=200, penalty=l2, solver=saga;, score=(train=0.661, test=0.659) total time=  50.8s\n"
     ]
    },
    {
     "name": "stderr",
     "output_type": "stream",
     "text": [
      "/home/corisco/miniconda3/envs/ml-ids/lib/python3.11/site-packages/sklearn/linear_model/_sag.py:348: ConvergenceWarning: The max_iter was reached which means the coef_ did not converge\n",
      "  warnings.warn(\n"
     ]
    },
    {
     "name": "stdout",
     "output_type": "stream",
     "text": [
      "[CV 2/3] END C=0.1, class_weight=balanced, max_iter=200, penalty=l2, solver=saga;, score=(train=0.544, test=0.544) total time=  48.7s\n"
     ]
    },
    {
     "name": "stderr",
     "output_type": "stream",
     "text": [
      "/home/corisco/miniconda3/envs/ml-ids/lib/python3.11/site-packages/sklearn/linear_model/_sag.py:348: ConvergenceWarning: The max_iter was reached which means the coef_ did not converge\n",
      "  warnings.warn(\n"
     ]
    },
    {
     "name": "stdout",
     "output_type": "stream",
     "text": [
      "[CV 3/3] END C=0.1, class_weight=balanced, max_iter=200, penalty=l2, solver=saga;, score=(train=0.652, test=0.654) total time=  49.2s\n"
     ]
    },
    {
     "name": "stderr",
     "output_type": "stream",
     "text": [
      "/home/corisco/miniconda3/envs/ml-ids/lib/python3.11/site-packages/sklearn/linear_model/_sag.py:348: ConvergenceWarning: The max_iter was reached which means the coef_ did not converge\n",
      "  warnings.warn(\n"
     ]
    },
    {
     "name": "stdout",
     "output_type": "stream",
     "text": [
      "[CV 1/3] END C=1.0, class_weight=balanced, max_iter=200, penalty=l2, solver=saga;, score=(train=0.614, test=0.617) total time=  47.2s\n"
     ]
    },
    {
     "name": "stderr",
     "output_type": "stream",
     "text": [
      "/home/corisco/miniconda3/envs/ml-ids/lib/python3.11/site-packages/sklearn/linear_model/_sag.py:348: ConvergenceWarning: The max_iter was reached which means the coef_ did not converge\n",
      "  warnings.warn(\n",
      "/home/corisco/miniconda3/envs/ml-ids/lib/python3.11/site-packages/sklearn/linear_model/_sag.py:348: ConvergenceWarning: The max_iter was reached which means the coef_ did not converge\n",
      "  warnings.warn(\n"
     ]
    },
    {
     "name": "stdout",
     "output_type": "stream",
     "text": [
      "[CV 2/3] END C=1.0, class_weight=balanced, max_iter=200, penalty=l2, solver=saga;, score=(train=0.631, test=0.631) total time=  46.8s\n",
      "[CV 3/3] END C=1.0, class_weight=balanced, max_iter=200, penalty=l2, solver=saga;, score=(train=0.672, test=0.663) total time=  46.6s\n"
     ]
    },
    {
     "name": "stderr",
     "output_type": "stream",
     "text": [
      "/home/corisco/miniconda3/envs/ml-ids/lib/python3.11/site-packages/sklearn/linear_model/_sag.py:348: ConvergenceWarning: The max_iter was reached which means the coef_ did not converge\n",
      "  warnings.warn(\n"
     ]
    },
    {
     "name": "stdout",
     "output_type": "stream",
     "text": [
      "[CV 1/3] END C=10.0, class_weight=None, max_iter=200, penalty=l2, solver=saga;, score=(train=0.882, test=0.863) total time=  43.5s\n"
     ]
    },
    {
     "name": "stderr",
     "output_type": "stream",
     "text": [
      "/home/corisco/miniconda3/envs/ml-ids/lib/python3.11/site-packages/sklearn/linear_model/_sag.py:348: ConvergenceWarning: The max_iter was reached which means the coef_ did not converge\n",
      "  warnings.warn(\n"
     ]
    },
    {
     "name": "stdout",
     "output_type": "stream",
     "text": [
      "[CV 2/3] END C=10.0, class_weight=None, max_iter=200, penalty=l2, solver=saga;, score=(train=0.878, test=0.838) total time=  42.4s\n"
     ]
    },
    {
     "name": "stderr",
     "output_type": "stream",
     "text": [
      "/home/corisco/miniconda3/envs/ml-ids/lib/python3.11/site-packages/sklearn/linear_model/_sag.py:348: ConvergenceWarning: The max_iter was reached which means the coef_ did not converge\n",
      "  warnings.warn(\n"
     ]
    },
    {
     "name": "stdout",
     "output_type": "stream",
     "text": [
      "[CV 3/3] END C=10.0, class_weight=None, max_iter=200, penalty=l2, solver=saga;, score=(train=0.883, test=0.856) total time=  42.3s\n"
     ]
    },
    {
     "name": "stderr",
     "output_type": "stream",
     "text": [
      "/home/corisco/miniconda3/envs/ml-ids/lib/python3.11/site-packages/sklearn/linear_model/_sag.py:348: ConvergenceWarning: The max_iter was reached which means the coef_ did not converge\n",
      "  warnings.warn(\n",
      "/home/corisco/miniconda3/envs/ml-ids/lib/python3.11/site-packages/sklearn/linear_model/_sag.py:348: ConvergenceWarning: The max_iter was reached which means the coef_ did not converge\n",
      "  warnings.warn(\n",
      "/home/corisco/miniconda3/envs/ml-ids/lib/python3.11/site-packages/sklearn/linear_model/_sag.py:348: ConvergenceWarning: The max_iter was reached which means the coef_ did not converge\n",
      "  warnings.warn(\n"
     ]
    },
    {
     "name": "stdout",
     "output_type": "stream",
     "text": [
      "[CV 3/3] END C=10.0, class_weight=balanced, max_iter=200, penalty=l2, solver=saga;, score=(train=0.642, test=0.637) total time=  36.6s\n",
      "[CV 1/3] END C=10.0, class_weight=balanced, max_iter=200, penalty=l2, solver=saga;, score=(train=0.621, test=0.633) total time=  38.1s\n",
      "[CV 2/3] END C=10.0, class_weight=balanced, max_iter=200, penalty=l2, solver=saga;, score=(train=0.649, test=0.648) total time=  37.8s\n",
      "\n",
      "Melhores parâmetros encontrados:\n",
      "  C: 10.0\n",
      "  class_weight: None\n",
      "  max_iter: 200\n",
      "  penalty: l2\n",
      "  solver: saga\n",
      "\n",
      "Melhor f1_macro: 0.8523\n",
      "Tempo total: 101.57 segundos\n",
      "\n",
      "Top 10 combinações:\n"
     ]
    },
    {
     "data": {
      "text/html": [
       "<div>\n",
       "<style scoped>\n",
       "    .dataframe tbody tr th:only-of-type {\n",
       "        vertical-align: middle;\n",
       "    }\n",
       "\n",
       "    .dataframe tbody tr th {\n",
       "        vertical-align: top;\n",
       "    }\n",
       "\n",
       "    .dataframe thead th {\n",
       "        text-align: right;\n",
       "    }\n",
       "</style>\n",
       "<table border=\"1\" class=\"dataframe\">\n",
       "  <thead>\n",
       "    <tr style=\"text-align: right;\">\n",
       "      <th></th>\n",
       "      <th>mean_test_score</th>\n",
       "      <th>mean_train_score</th>\n",
       "      <th>std_test_score</th>\n",
       "      <th>param_C</th>\n",
       "      <th>param_class_weight</th>\n",
       "      <th>param_max_iter</th>\n",
       "      <th>param_penalty</th>\n",
       "      <th>param_solver</th>\n",
       "    </tr>\n",
       "  </thead>\n",
       "  <tbody>\n",
       "    <tr>\n",
       "      <th>14</th>\n",
       "      <td>0.852267</td>\n",
       "      <td>0.881159</td>\n",
       "      <td>0.010680</td>\n",
       "      <td>10.0</td>\n",
       "      <td>None</td>\n",
       "      <td>200</td>\n",
       "      <td>l2</td>\n",
       "      <td>saga</td>\n",
       "    </tr>\n",
       "    <tr>\n",
       "      <th>13</th>\n",
       "      <td>0.848678</td>\n",
       "      <td>0.881981</td>\n",
       "      <td>0.015191</td>\n",
       "      <td>10.0</td>\n",
       "      <td>None</td>\n",
       "      <td>200</td>\n",
       "      <td>l2</td>\n",
       "      <td>lbfgs</td>\n",
       "    </tr>\n",
       "    <tr>\n",
       "      <th>8</th>\n",
       "      <td>0.838695</td>\n",
       "      <td>0.848009</td>\n",
       "      <td>0.010861</td>\n",
       "      <td>1.0</td>\n",
       "      <td>None</td>\n",
       "      <td>200</td>\n",
       "      <td>l2</td>\n",
       "      <td>saga</td>\n",
       "    </tr>\n",
       "    <tr>\n",
       "      <th>7</th>\n",
       "      <td>0.838179</td>\n",
       "      <td>0.846515</td>\n",
       "      <td>0.009825</td>\n",
       "      <td>1.0</td>\n",
       "      <td>None</td>\n",
       "      <td>200</td>\n",
       "      <td>l2</td>\n",
       "      <td>lbfgs</td>\n",
       "    </tr>\n",
       "    <tr>\n",
       "      <th>12</th>\n",
       "      <td>0.822085</td>\n",
       "      <td>0.835328</td>\n",
       "      <td>0.012860</td>\n",
       "      <td>10.0</td>\n",
       "      <td>None</td>\n",
       "      <td>200</td>\n",
       "      <td>l2</td>\n",
       "      <td>liblinear</td>\n",
       "    </tr>\n",
       "    <tr>\n",
       "      <th>9</th>\n",
       "      <td>0.780666</td>\n",
       "      <td>0.777506</td>\n",
       "      <td>0.017073</td>\n",
       "      <td>1.0</td>\n",
       "      <td>balanced</td>\n",
       "      <td>200</td>\n",
       "      <td>l2</td>\n",
       "      <td>liblinear</td>\n",
       "    </tr>\n",
       "    <tr>\n",
       "      <th>15</th>\n",
       "      <td>0.779120</td>\n",
       "      <td>0.775354</td>\n",
       "      <td>0.014926</td>\n",
       "      <td>10.0</td>\n",
       "      <td>balanced</td>\n",
       "      <td>200</td>\n",
       "      <td>l2</td>\n",
       "      <td>liblinear</td>\n",
       "    </tr>\n",
       "    <tr>\n",
       "      <th>3</th>\n",
       "      <td>0.752630</td>\n",
       "      <td>0.755857</td>\n",
       "      <td>0.001061</td>\n",
       "      <td>0.1</td>\n",
       "      <td>balanced</td>\n",
       "      <td>200</td>\n",
       "      <td>l2</td>\n",
       "      <td>liblinear</td>\n",
       "    </tr>\n",
       "    <tr>\n",
       "      <th>6</th>\n",
       "      <td>0.743877</td>\n",
       "      <td>0.749434</td>\n",
       "      <td>0.004822</td>\n",
       "      <td>1.0</td>\n",
       "      <td>None</td>\n",
       "      <td>200</td>\n",
       "      <td>l2</td>\n",
       "      <td>liblinear</td>\n",
       "    </tr>\n",
       "    <tr>\n",
       "      <th>16</th>\n",
       "      <td>0.686344</td>\n",
       "      <td>0.694088</td>\n",
       "      <td>0.004473</td>\n",
       "      <td>10.0</td>\n",
       "      <td>balanced</td>\n",
       "      <td>200</td>\n",
       "      <td>l2</td>\n",
       "      <td>lbfgs</td>\n",
       "    </tr>\n",
       "  </tbody>\n",
       "</table>\n",
       "</div>"
      ],
      "text/plain": [
       "    mean_test_score  mean_train_score  std_test_score  param_C  \\\n",
       "14         0.852267          0.881159        0.010680     10.0   \n",
       "13         0.848678          0.881981        0.015191     10.0   \n",
       "8          0.838695          0.848009        0.010861      1.0   \n",
       "7          0.838179          0.846515        0.009825      1.0   \n",
       "12         0.822085          0.835328        0.012860     10.0   \n",
       "9          0.780666          0.777506        0.017073      1.0   \n",
       "15         0.779120          0.775354        0.014926     10.0   \n",
       "3          0.752630          0.755857        0.001061      0.1   \n",
       "6          0.743877          0.749434        0.004822      1.0   \n",
       "16         0.686344          0.694088        0.004473     10.0   \n",
       "\n",
       "   param_class_weight  param_max_iter param_penalty param_solver  \n",
       "14               None             200            l2         saga  \n",
       "13               None             200            l2        lbfgs  \n",
       "8                None             200            l2         saga  \n",
       "7                None             200            l2        lbfgs  \n",
       "12               None             200            l2    liblinear  \n",
       "9            balanced             200            l2    liblinear  \n",
       "15           balanced             200            l2    liblinear  \n",
       "3            balanced             200            l2    liblinear  \n",
       "6                None             200            l2    liblinear  \n",
       "16           balanced             200            l2        lbfgs  "
      ]
     },
     "metadata": {},
     "output_type": "display_data"
    }
   ],
   "source": [
    "param_grid_logreg = {\n",
    "    'C': [0.1, 1.0, 10.0],\n",
    "    'solver': ['liblinear', 'lbfgs', 'saga'],  # Apenas solvers que funcionam com 'l2'\n",
    "    'penalty': ['l2'],                         # Evita incompatibilidade com 'lbfgs'\n",
    "    'class_weight': [None, 'balanced'],\n",
    "    'max_iter': [200],\n",
    "}\n",
    "\n",
    "logreg_model = LogisticRegression()\n",
    "grid, results_df = run_grid_search(X_train, y_train, logreg_model, param_grid_logreg)"
   ]
  },
  {
   "cell_type": "code",
   "execution_count": 15,
   "id": "6d5bc6b1",
   "metadata": {},
   "outputs": [
    {
     "name": "stdout",
     "output_type": "stream",
     "text": [
      "Fitting 3 folds for each of 12 candidates, totalling 36 fits\n",
      "[CV 1/3] END C=0.3, class_weight=None, max_iter=500, penalty=l2, solver=lbfgs;, score=(train=0.784, test=0.786) total time=   2.6s\n",
      "[CV 2/3] END C=0.3, class_weight=None, max_iter=500, penalty=l2, solver=lbfgs;, score=(train=0.774, test=0.777) total time=   2.5s\n",
      "[CV 3/3] END C=0.5, class_weight=None, max_iter=500, penalty=l2, solver=lbfgs;, score=(train=0.837, test=0.822) total time=   2.6s\n",
      "[CV 1/3] END C=0.5, class_weight=None, max_iter=500, penalty=l2, solver=lbfgs;, score=(train=0.810, test=0.830) total time=   2.7s\n",
      "[CV 2/3] END C=0.5, class_weight=None, max_iter=500, penalty=l2, solver=lbfgs;, score=(train=0.828, test=0.817) total time=   2.7s\n",
      "[CV 3/3] END C=0.3, class_weight=None, max_iter=500, penalty=l2, solver=lbfgs;, score=(train=0.799, test=0.787) total time=   2.9s\n",
      "[CV 1/3] END C=1.0, class_weight=None, max_iter=500, penalty=l2, solver=lbfgs;, score=(train=0.843, test=0.846) total time=   2.9s\n",
      "[CV 2/3] END C=1.0, class_weight=None, max_iter=500, penalty=l2, solver=lbfgs;, score=(train=0.838, test=0.844) total time=   3.0s\n",
      "[CV 3/3] END C=1.0, class_weight=None, max_iter=500, penalty=l2, solver=lbfgs;, score=(train=0.858, test=0.824) total time=   3.2s\n",
      "[CV 1/3] END C=3.0, class_weight=None, max_iter=500, penalty=l2, solver=lbfgs;, score=(train=0.852, test=0.848) total time=   2.2s\n",
      "[CV 2/3] END C=3.0, class_weight=None, max_iter=500, penalty=l2, solver=lbfgs;, score=(train=0.857, test=0.842) total time=   2.4s\n",
      "[CV 3/3] END C=3.0, class_weight=None, max_iter=500, penalty=l2, solver=lbfgs;, score=(train=0.861, test=0.836) total time=   2.5s\n",
      "[CV 1/3] END C=5.0, class_weight=None, max_iter=500, penalty=l2, solver=lbfgs;, score=(train=0.860, test=0.852) total time=   2.5s\n",
      "[CV 2/3] END C=5.0, class_weight=None, max_iter=500, penalty=l2, solver=lbfgs;, score=(train=0.857, test=0.843) total time=   2.0s\n",
      "[CV 3/3] END C=5.0, class_weight=None, max_iter=500, penalty=l2, solver=lbfgs;, score=(train=0.875, test=0.848) total time=   2.7s\n",
      "[CV 3/3] END C=0.3, class_weight=None, max_iter=500, penalty=l2, solver=saga;, score=(train=0.805, test=0.791) total time=  11.0s\n",
      "[CV 2/3] END C=0.3, class_weight=None, max_iter=500, penalty=l2, solver=saga;, score=(train=0.777, test=0.781) total time=  11.1s\n",
      "[CV 1/3] END C=0.3, class_weight=None, max_iter=500, penalty=l2, solver=saga;, score=(train=0.784, test=0.787) total time=  11.4s\n",
      "[CV 1/3] END C=10.0, class_weight=None, max_iter=500, penalty=l2, solver=lbfgs;, score=(train=0.884, test=0.868) total time=   3.0s\n",
      "[CV 3/3] END C=10.0, class_weight=None, max_iter=500, penalty=l2, solver=lbfgs;, score=(train=0.887, test=0.846) total time=   2.6s\n",
      "[CV 2/3] END C=10.0, class_weight=None, max_iter=500, penalty=l2, solver=lbfgs;, score=(train=0.874, test=0.831) total time=   2.9s\n",
      "[CV 1/3] END C=0.5, class_weight=None, max_iter=500, penalty=l2, solver=saga;, score=(train=0.830, test=0.841) total time=  15.5s\n",
      "[CV 3/3] END C=0.5, class_weight=None, max_iter=500, penalty=l2, solver=saga;, score=(train=0.837, test=0.821) total time=  15.5s\n",
      "[CV 2/3] END C=0.5, class_weight=None, max_iter=500, penalty=l2, solver=saga;, score=(train=0.832, test=0.822) total time=  15.9s\n",
      "[CV 1/3] END C=1.0, class_weight=None, max_iter=500, penalty=l2, solver=saga;, score=(train=0.845, test=0.848) total time=  20.8s\n",
      "[CV 2/3] END C=1.0, class_weight=None, max_iter=500, penalty=l2, solver=saga;, score=(train=0.847, test=0.845) total time=  20.0s\n",
      "[CV 3/3] END C=1.0, class_weight=None, max_iter=500, penalty=l2, solver=saga;, score=(train=0.852, test=0.823) total time=  20.4s\n",
      "[CV 3/3] END C=3.0, class_weight=None, max_iter=500, penalty=l2, solver=saga;, score=(train=0.873, test=0.841) total time=  30.3s\n",
      "[CV 2/3] END C=3.0, class_weight=None, max_iter=500, penalty=l2, solver=saga;, score=(train=0.856, test=0.846) total time=  30.8s\n",
      "[CV 1/3] END C=3.0, class_weight=None, max_iter=500, penalty=l2, solver=saga;, score=(train=0.853, test=0.848) total time=  31.3s\n",
      "[CV 3/3] END C=5.0, class_weight=None, max_iter=500, penalty=l2, solver=saga;, score=(train=0.883, test=0.855) total time=  33.6s\n",
      "[CV 2/3] END C=5.0, class_weight=None, max_iter=500, penalty=l2, solver=saga;, score=(train=0.864, test=0.847) total time=  35.1s\n",
      "[CV 1/3] END C=5.0, class_weight=None, max_iter=500, penalty=l2, solver=saga;, score=(train=0.861, test=0.861) total time=  35.8s\n",
      "[CV 1/3] END C=10.0, class_weight=None, max_iter=500, penalty=l2, solver=saga;, score=(train=0.882, test=0.863) total time=  40.8s\n",
      "[CV 2/3] END C=10.0, class_weight=None, max_iter=500, penalty=l2, solver=saga;, score=(train=0.878, test=0.838) total time=  40.6s\n",
      "[CV 3/3] END C=10.0, class_weight=None, max_iter=500, penalty=l2, solver=saga;, score=(train=0.884, test=0.856) total time=  39.6s\n",
      "\n",
      "Melhores parâmetros encontrados:\n",
      "  C: 5.0\n",
      "  class_weight: None\n",
      "  max_iter: 500\n",
      "  penalty: l2\n",
      "  solver: saga\n",
      "\n",
      "Melhor f1_macro: 0.8545\n",
      "Tempo total: 79.25 segundos\n",
      "\n",
      "Top 10 combinações:\n"
     ]
    },
    {
     "data": {
      "text/html": [
       "<div>\n",
       "<style scoped>\n",
       "    .dataframe tbody tr th:only-of-type {\n",
       "        vertical-align: middle;\n",
       "    }\n",
       "\n",
       "    .dataframe tbody tr th {\n",
       "        vertical-align: top;\n",
       "    }\n",
       "\n",
       "    .dataframe thead th {\n",
       "        text-align: right;\n",
       "    }\n",
       "</style>\n",
       "<table border=\"1\" class=\"dataframe\">\n",
       "  <thead>\n",
       "    <tr style=\"text-align: right;\">\n",
       "      <th></th>\n",
       "      <th>mean_test_score</th>\n",
       "      <th>mean_train_score</th>\n",
       "      <th>std_test_score</th>\n",
       "      <th>param_C</th>\n",
       "      <th>param_class_weight</th>\n",
       "      <th>param_max_iter</th>\n",
       "      <th>param_penalty</th>\n",
       "      <th>param_solver</th>\n",
       "    </tr>\n",
       "  </thead>\n",
       "  <tbody>\n",
       "    <tr>\n",
       "      <th>9</th>\n",
       "      <td>0.854451</td>\n",
       "      <td>0.869154</td>\n",
       "      <td>0.006017</td>\n",
       "      <td>5.0</td>\n",
       "      <td>None</td>\n",
       "      <td>500</td>\n",
       "      <td>l2</td>\n",
       "      <td>saga</td>\n",
       "    </tr>\n",
       "    <tr>\n",
       "      <th>11</th>\n",
       "      <td>0.852395</td>\n",
       "      <td>0.881226</td>\n",
       "      <td>0.010535</td>\n",
       "      <td>10.0</td>\n",
       "      <td>None</td>\n",
       "      <td>500</td>\n",
       "      <td>l2</td>\n",
       "      <td>saga</td>\n",
       "    </tr>\n",
       "    <tr>\n",
       "      <th>10</th>\n",
       "      <td>0.848678</td>\n",
       "      <td>0.881981</td>\n",
       "      <td>0.015191</td>\n",
       "      <td>10.0</td>\n",
       "      <td>None</td>\n",
       "      <td>500</td>\n",
       "      <td>l2</td>\n",
       "      <td>lbfgs</td>\n",
       "    </tr>\n",
       "    <tr>\n",
       "      <th>8</th>\n",
       "      <td>0.847912</td>\n",
       "      <td>0.863849</td>\n",
       "      <td>0.003851</td>\n",
       "      <td>5.0</td>\n",
       "      <td>None</td>\n",
       "      <td>500</td>\n",
       "      <td>l2</td>\n",
       "      <td>lbfgs</td>\n",
       "    </tr>\n",
       "    <tr>\n",
       "      <th>7</th>\n",
       "      <td>0.845288</td>\n",
       "      <td>0.860749</td>\n",
       "      <td>0.002968</td>\n",
       "      <td>3.0</td>\n",
       "      <td>None</td>\n",
       "      <td>500</td>\n",
       "      <td>l2</td>\n",
       "      <td>saga</td>\n",
       "    </tr>\n",
       "    <tr>\n",
       "      <th>6</th>\n",
       "      <td>0.842065</td>\n",
       "      <td>0.856635</td>\n",
       "      <td>0.005003</td>\n",
       "      <td>3.0</td>\n",
       "      <td>None</td>\n",
       "      <td>500</td>\n",
       "      <td>l2</td>\n",
       "      <td>lbfgs</td>\n",
       "    </tr>\n",
       "    <tr>\n",
       "      <th>5</th>\n",
       "      <td>0.838695</td>\n",
       "      <td>0.848009</td>\n",
       "      <td>0.010861</td>\n",
       "      <td>1.0</td>\n",
       "      <td>None</td>\n",
       "      <td>500</td>\n",
       "      <td>l2</td>\n",
       "      <td>saga</td>\n",
       "    </tr>\n",
       "    <tr>\n",
       "      <th>4</th>\n",
       "      <td>0.838179</td>\n",
       "      <td>0.846515</td>\n",
       "      <td>0.009825</td>\n",
       "      <td>1.0</td>\n",
       "      <td>None</td>\n",
       "      <td>500</td>\n",
       "      <td>l2</td>\n",
       "      <td>lbfgs</td>\n",
       "    </tr>\n",
       "    <tr>\n",
       "      <th>3</th>\n",
       "      <td>0.828326</td>\n",
       "      <td>0.832720</td>\n",
       "      <td>0.009061</td>\n",
       "      <td>0.5</td>\n",
       "      <td>None</td>\n",
       "      <td>500</td>\n",
       "      <td>l2</td>\n",
       "      <td>saga</td>\n",
       "    </tr>\n",
       "    <tr>\n",
       "      <th>2</th>\n",
       "      <td>0.822989</td>\n",
       "      <td>0.825109</td>\n",
       "      <td>0.005171</td>\n",
       "      <td>0.5</td>\n",
       "      <td>None</td>\n",
       "      <td>500</td>\n",
       "      <td>l2</td>\n",
       "      <td>lbfgs</td>\n",
       "    </tr>\n",
       "  </tbody>\n",
       "</table>\n",
       "</div>"
      ],
      "text/plain": [
       "    mean_test_score  mean_train_score  std_test_score  param_C  \\\n",
       "9          0.854451          0.869154        0.006017      5.0   \n",
       "11         0.852395          0.881226        0.010535     10.0   \n",
       "10         0.848678          0.881981        0.015191     10.0   \n",
       "8          0.847912          0.863849        0.003851      5.0   \n",
       "7          0.845288          0.860749        0.002968      3.0   \n",
       "6          0.842065          0.856635        0.005003      3.0   \n",
       "5          0.838695          0.848009        0.010861      1.0   \n",
       "4          0.838179          0.846515        0.009825      1.0   \n",
       "3          0.828326          0.832720        0.009061      0.5   \n",
       "2          0.822989          0.825109        0.005171      0.5   \n",
       "\n",
       "   param_class_weight  param_max_iter param_penalty param_solver  \n",
       "9                None             500            l2         saga  \n",
       "11               None             500            l2         saga  \n",
       "10               None             500            l2        lbfgs  \n",
       "8                None             500            l2        lbfgs  \n",
       "7                None             500            l2         saga  \n",
       "6                None             500            l2        lbfgs  \n",
       "5                None             500            l2         saga  \n",
       "4                None             500            l2        lbfgs  \n",
       "3                None             500            l2         saga  \n",
       "2                None             500            l2        lbfgs  "
      ]
     },
     "metadata": {},
     "output_type": "display_data"
    }
   ],
   "source": [
    "param_grid_logreg2 = {\n",
    "    'C': [0.3, 0.5, 1.0, 3.0, 5.0, 10.0],\n",
    "    'solver': ['lbfgs', 'saga'],\n",
    "    'penalty': ['l2'],\n",
    "    'class_weight': [None],\n",
    "    'max_iter': [500]\n",
    "}\n",
    "\n",
    "logreg_model = LogisticRegression()\n",
    "grid, results_df = run_grid_search(X_train, y_train, logreg_model, param_grid_logreg2)"
   ]
  },
  {
   "cell_type": "code",
   "execution_count": 16,
   "id": "47232c02",
   "metadata": {},
   "outputs": [
    {
     "name": "stdout",
     "output_type": "stream",
     "text": [
      "Fitting 3 folds for each of 12 candidates, totalling 36 fits\n",
      "[CV 3/3] END C=4.0, class_weight=None, max_iter=1000, penalty=l2, solver=saga;, score=(train=0.877, test=0.842) total time=  37.7s\n",
      "[CV 2/3] END C=4.0, class_weight=None, max_iter=1000, penalty=l2, solver=saga;, score=(train=0.863, test=0.847) total time=  38.3s\n",
      "[CV 1/3] END C=4.0, class_weight=None, max_iter=1000, penalty=l2, solver=saga;, score=(train=0.861, test=0.848) total time=  38.5s\n",
      "[CV 3/3] END C=5.0, class_weight=None, max_iter=1000, penalty=l2, solver=saga;, score=(train=0.883, test=0.855) total time=  39.6s\n",
      "[CV 1/3] END C=5.0, class_weight=None, max_iter=1000, penalty=l2, solver=saga;, score=(train=0.861, test=0.861) total time=  41.2s\n",
      "[CV 2/3] END C=5.0, class_weight=None, max_iter=1000, penalty=l2, solver=saga;, score=(train=0.864, test=0.847) total time=  41.8s\n",
      "[CV 3/3] END C=6.0, class_weight=None, max_iter=1000, penalty=l2, solver=saga;, score=(train=0.883, test=0.855) total time=  42.7s\n",
      "[CV 2/3] END C=6.0, class_weight=None, max_iter=1000, penalty=l2, solver=saga;, score=(train=0.871, test=0.842) total time=  45.3s\n",
      "[CV 1/3] END C=6.0, class_weight=None, max_iter=1000, penalty=l2, solver=saga;, score=(train=0.861, test=0.861) total time=  45.8s\n",
      "[CV 1/3] END C=8.0, class_weight=None, max_iter=1000, penalty=l2, solver=saga;, score=(train=0.875, test=0.863) total time=  53.5s\n",
      "[CV 2/3] END C=8.0, class_weight=None, max_iter=1000, penalty=l2, solver=saga;, score=(train=0.878, test=0.837) total time=  53.5s\n",
      "[CV 3/3] END C=8.0, class_weight=None, max_iter=1000, penalty=l2, solver=saga;, score=(train=0.881, test=0.856) total time=  54.2s\n",
      "[CV 1/3] END C=10.0, class_weight=None, max_iter=1000, penalty=l2, solver=saga;, score=(train=0.882, test=0.863) total time= 1.0min\n",
      "[CV 2/3] END C=10.0, class_weight=None, max_iter=1000, penalty=l2, solver=saga;, score=(train=0.878, test=0.838) total time= 1.0min\n",
      "[CV 3/3] END C=10.0, class_weight=None, max_iter=1000, penalty=l2, solver=saga;, score=(train=0.884, test=0.856) total time= 1.0min\n",
      "[CV 1/3] END C=12.0, class_weight=None, max_iter=1000, penalty=l2, solver=saga;, score=(train=0.882, test=0.863) total time= 1.2min\n"
     ]
    },
    {
     "name": "stderr",
     "output_type": "stream",
     "text": [
      "/home/corisco/miniconda3/envs/ml-ids/lib/python3.11/site-packages/sklearn/linear_model/_sag.py:348: ConvergenceWarning: The max_iter was reached which means the coef_ did not converge\n",
      "  warnings.warn(\n"
     ]
    },
    {
     "name": "stdout",
     "output_type": "stream",
     "text": [
      "[CV 3/3] END C=5.0, class_weight=balanced, max_iter=1000, penalty=l2, solver=saga;, score=(train=0.661, test=0.655) total time= 3.9min\n"
     ]
    },
    {
     "name": "stderr",
     "output_type": "stream",
     "text": [
      "/home/corisco/miniconda3/envs/ml-ids/lib/python3.11/site-packages/sklearn/linear_model/_sag.py:348: ConvergenceWarning: The max_iter was reached which means the coef_ did not converge\n",
      "  warnings.warn(\n",
      "/home/corisco/miniconda3/envs/ml-ids/lib/python3.11/site-packages/sklearn/linear_model/_sag.py:348: ConvergenceWarning: The max_iter was reached which means the coef_ did not converge\n",
      "  warnings.warn(\n"
     ]
    },
    {
     "name": "stdout",
     "output_type": "stream",
     "text": [
      "[CV 2/3] END C=4.0, class_weight=balanced, max_iter=1000, penalty=l2, solver=saga;, score=(train=0.688, test=0.688) total time= 3.9min\n",
      "[CV 3/3] END C=4.0, class_weight=balanced, max_iter=1000, penalty=l2, solver=saga;, score=(train=0.688, test=0.683) total time= 3.9min\n"
     ]
    },
    {
     "name": "stderr",
     "output_type": "stream",
     "text": [
      "/home/corisco/miniconda3/envs/ml-ids/lib/python3.11/site-packages/sklearn/linear_model/_sag.py:348: ConvergenceWarning: The max_iter was reached which means the coef_ did not converge\n",
      "  warnings.warn(\n"
     ]
    },
    {
     "name": "stdout",
     "output_type": "stream",
     "text": [
      "[CV 2/3] END C=5.0, class_weight=balanced, max_iter=1000, penalty=l2, solver=saga;, score=(train=0.626, test=0.626) total time= 3.9min\n"
     ]
    },
    {
     "name": "stderr",
     "output_type": "stream",
     "text": [
      "/home/corisco/miniconda3/envs/ml-ids/lib/python3.11/site-packages/sklearn/linear_model/_sag.py:348: ConvergenceWarning: The max_iter was reached which means the coef_ did not converge\n",
      "  warnings.warn(\n"
     ]
    },
    {
     "name": "stdout",
     "output_type": "stream",
     "text": [
      "[CV 1/3] END C=4.0, class_weight=balanced, max_iter=1000, penalty=l2, solver=saga;, score=(train=0.685, test=0.684) total time= 4.0min\n"
     ]
    },
    {
     "name": "stderr",
     "output_type": "stream",
     "text": [
      "/home/corisco/miniconda3/envs/ml-ids/lib/python3.11/site-packages/sklearn/linear_model/_sag.py:348: ConvergenceWarning: The max_iter was reached which means the coef_ did not converge\n",
      "  warnings.warn(\n"
     ]
    },
    {
     "name": "stdout",
     "output_type": "stream",
     "text": [
      "[CV 1/3] END C=5.0, class_weight=balanced, max_iter=1000, penalty=l2, solver=saga;, score=(train=0.664, test=0.664) total time= 4.0min\n"
     ]
    },
    {
     "name": "stderr",
     "output_type": "stream",
     "text": [
      "/home/corisco/miniconda3/envs/ml-ids/lib/python3.11/site-packages/sklearn/linear_model/_sag.py:348: ConvergenceWarning: The max_iter was reached which means the coef_ did not converge\n",
      "  warnings.warn(\n"
     ]
    },
    {
     "name": "stdout",
     "output_type": "stream",
     "text": [
      "[CV 1/3] END C=6.0, class_weight=balanced, max_iter=1000, penalty=l2, solver=saga;, score=(train=0.654, test=0.656) total time= 4.1min\n"
     ]
    },
    {
     "name": "stderr",
     "output_type": "stream",
     "text": [
      "/home/corisco/miniconda3/envs/ml-ids/lib/python3.11/site-packages/sklearn/linear_model/_sag.py:348: ConvergenceWarning: The max_iter was reached which means the coef_ did not converge\n",
      "  warnings.warn(\n"
     ]
    },
    {
     "name": "stdout",
     "output_type": "stream",
     "text": [
      "[CV 3/3] END C=6.0, class_weight=balanced, max_iter=1000, penalty=l2, solver=saga;, score=(train=0.644, test=0.636) total time= 4.0min\n"
     ]
    },
    {
     "name": "stderr",
     "output_type": "stream",
     "text": [
      "/home/corisco/miniconda3/envs/ml-ids/lib/python3.11/site-packages/sklearn/linear_model/_sag.py:348: ConvergenceWarning: The max_iter was reached which means the coef_ did not converge\n",
      "  warnings.warn(\n",
      "/home/corisco/miniconda3/envs/ml-ids/lib/python3.11/site-packages/sklearn/linear_model/_sag.py:348: ConvergenceWarning: The max_iter was reached which means the coef_ did not converge\n",
      "  warnings.warn(\n"
     ]
    },
    {
     "name": "stdout",
     "output_type": "stream",
     "text": [
      "[CV 1/3] END C=8.0, class_weight=balanced, max_iter=1000, penalty=l2, solver=saga;, score=(train=0.630, test=0.630) total time= 4.0min\n",
      "[CV 2/3] END C=6.0, class_weight=balanced, max_iter=1000, penalty=l2, solver=saga;, score=(train=0.639, test=0.638) total time= 4.1min\n"
     ]
    },
    {
     "name": "stderr",
     "output_type": "stream",
     "text": [
      "/home/corisco/miniconda3/envs/ml-ids/lib/python3.11/site-packages/sklearn/linear_model/_sag.py:348: ConvergenceWarning: The max_iter was reached which means the coef_ did not converge\n",
      "  warnings.warn(\n"
     ]
    },
    {
     "name": "stdout",
     "output_type": "stream",
     "text": [
      "[CV 2/3] END C=8.0, class_weight=balanced, max_iter=1000, penalty=l2, solver=saga;, score=(train=0.623, test=0.624) total time= 4.0min\n"
     ]
    },
    {
     "name": "stderr",
     "output_type": "stream",
     "text": [
      "/home/corisco/miniconda3/envs/ml-ids/lib/python3.11/site-packages/sklearn/linear_model/_sag.py:348: ConvergenceWarning: The max_iter was reached which means the coef_ did not converge\n",
      "  warnings.warn(\n"
     ]
    },
    {
     "name": "stdout",
     "output_type": "stream",
     "text": [
      "[CV 3/3] END C=8.0, class_weight=balanced, max_iter=1000, penalty=l2, solver=saga;, score=(train=0.774, test=0.756) total time= 4.0min\n",
      "[CV 2/3] END C=12.0, class_weight=None, max_iter=1000, penalty=l2, solver=saga;, score=(train=0.879, test=0.838) total time= 1.0min\n",
      "[CV 3/3] END C=12.0, class_weight=None, max_iter=1000, penalty=l2, solver=saga;, score=(train=0.884, test=0.856) total time= 1.0min\n"
     ]
    },
    {
     "name": "stderr",
     "output_type": "stream",
     "text": [
      "/home/corisco/miniconda3/envs/ml-ids/lib/python3.11/site-packages/sklearn/linear_model/_sag.py:348: ConvergenceWarning: The max_iter was reached which means the coef_ did not converge\n",
      "  warnings.warn(\n"
     ]
    },
    {
     "name": "stdout",
     "output_type": "stream",
     "text": [
      "[CV 1/3] END C=10.0, class_weight=balanced, max_iter=1000, penalty=l2, solver=saga;, score=(train=0.646, test=0.649) total time= 3.8min\n"
     ]
    },
    {
     "name": "stderr",
     "output_type": "stream",
     "text": [
      "/home/corisco/miniconda3/envs/ml-ids/lib/python3.11/site-packages/sklearn/linear_model/_sag.py:348: ConvergenceWarning: The max_iter was reached which means the coef_ did not converge\n",
      "  warnings.warn(\n"
     ]
    },
    {
     "name": "stdout",
     "output_type": "stream",
     "text": [
      "[CV 2/3] END C=10.0, class_weight=balanced, max_iter=1000, penalty=l2, solver=saga;, score=(train=0.610, test=0.612) total time= 3.7min\n"
     ]
    },
    {
     "name": "stderr",
     "output_type": "stream",
     "text": [
      "/home/corisco/miniconda3/envs/ml-ids/lib/python3.11/site-packages/sklearn/linear_model/_sag.py:348: ConvergenceWarning: The max_iter was reached which means the coef_ did not converge\n",
      "  warnings.warn(\n"
     ]
    },
    {
     "name": "stdout",
     "output_type": "stream",
     "text": [
      "[CV 3/3] END C=10.0, class_weight=balanced, max_iter=1000, penalty=l2, solver=saga;, score=(train=0.676, test=0.668) total time= 3.3min\n"
     ]
    },
    {
     "name": "stderr",
     "output_type": "stream",
     "text": [
      "/home/corisco/miniconda3/envs/ml-ids/lib/python3.11/site-packages/sklearn/linear_model/_sag.py:348: ConvergenceWarning: The max_iter was reached which means the coef_ did not converge\n",
      "  warnings.warn(\n"
     ]
    },
    {
     "name": "stdout",
     "output_type": "stream",
     "text": [
      "[CV 1/3] END C=12.0, class_weight=balanced, max_iter=1000, penalty=l2, solver=saga;, score=(train=0.661, test=0.661) total time= 2.6min\n"
     ]
    },
    {
     "name": "stderr",
     "output_type": "stream",
     "text": [
      "/home/corisco/miniconda3/envs/ml-ids/lib/python3.11/site-packages/sklearn/linear_model/_sag.py:348: ConvergenceWarning: The max_iter was reached which means the coef_ did not converge\n",
      "  warnings.warn(\n"
     ]
    },
    {
     "name": "stdout",
     "output_type": "stream",
     "text": [
      "[CV 3/3] END C=12.0, class_weight=balanced, max_iter=1000, penalty=l2, solver=saga;, score=(train=0.676, test=0.673) total time= 2.6min\n"
     ]
    },
    {
     "name": "stderr",
     "output_type": "stream",
     "text": [
      "/home/corisco/miniconda3/envs/ml-ids/lib/python3.11/site-packages/sklearn/linear_model/_sag.py:348: ConvergenceWarning: The max_iter was reached which means the coef_ did not converge\n",
      "  warnings.warn(\n"
     ]
    },
    {
     "name": "stdout",
     "output_type": "stream",
     "text": [
      "[CV 2/3] END C=12.0, class_weight=balanced, max_iter=1000, penalty=l2, solver=saga;, score=(train=0.681, test=0.684) total time= 2.6min\n",
      "\n",
      "Melhores parâmetros encontrados:\n",
      "  C: 5.0\n",
      "  class_weight: None\n",
      "  max_iter: 1000\n",
      "  penalty: l2\n",
      "  solver: saga\n",
      "\n",
      "Melhor f1_macro: 0.8545\n",
      "Tempo total: 415.97 segundos\n",
      "\n",
      "Top 10 combinações:\n"
     ]
    },
    {
     "data": {
      "text/html": [
       "<div>\n",
       "<style scoped>\n",
       "    .dataframe tbody tr th:only-of-type {\n",
       "        vertical-align: middle;\n",
       "    }\n",
       "\n",
       "    .dataframe tbody tr th {\n",
       "        vertical-align: top;\n",
       "    }\n",
       "\n",
       "    .dataframe thead th {\n",
       "        text-align: right;\n",
       "    }\n",
       "</style>\n",
       "<table border=\"1\" class=\"dataframe\">\n",
       "  <thead>\n",
       "    <tr style=\"text-align: right;\">\n",
       "      <th></th>\n",
       "      <th>mean_test_score</th>\n",
       "      <th>mean_train_score</th>\n",
       "      <th>std_test_score</th>\n",
       "      <th>param_C</th>\n",
       "      <th>param_class_weight</th>\n",
       "      <th>param_max_iter</th>\n",
       "      <th>param_penalty</th>\n",
       "      <th>param_solver</th>\n",
       "    </tr>\n",
       "  </thead>\n",
       "  <tbody>\n",
       "    <tr>\n",
       "      <th>2</th>\n",
       "      <td>0.854451</td>\n",
       "      <td>0.869154</td>\n",
       "      <td>0.006017</td>\n",
       "      <td>5.0</td>\n",
       "      <td>None</td>\n",
       "      <td>1000</td>\n",
       "      <td>l2</td>\n",
       "      <td>saga</td>\n",
       "    </tr>\n",
       "    <tr>\n",
       "      <th>4</th>\n",
       "      <td>0.852693</td>\n",
       "      <td>0.871818</td>\n",
       "      <td>0.008320</td>\n",
       "      <td>6.0</td>\n",
       "      <td>None</td>\n",
       "      <td>1000</td>\n",
       "      <td>l2</td>\n",
       "      <td>saga</td>\n",
       "    </tr>\n",
       "    <tr>\n",
       "      <th>10</th>\n",
       "      <td>0.852689</td>\n",
       "      <td>0.881531</td>\n",
       "      <td>0.010645</td>\n",
       "      <td>12.0</td>\n",
       "      <td>None</td>\n",
       "      <td>1000</td>\n",
       "      <td>l2</td>\n",
       "      <td>saga</td>\n",
       "    </tr>\n",
       "    <tr>\n",
       "      <th>8</th>\n",
       "      <td>0.852395</td>\n",
       "      <td>0.881226</td>\n",
       "      <td>0.010535</td>\n",
       "      <td>10.0</td>\n",
       "      <td>None</td>\n",
       "      <td>1000</td>\n",
       "      <td>l2</td>\n",
       "      <td>saga</td>\n",
       "    </tr>\n",
       "    <tr>\n",
       "      <th>6</th>\n",
       "      <td>0.851878</td>\n",
       "      <td>0.878013</td>\n",
       "      <td>0.010625</td>\n",
       "      <td>8.0</td>\n",
       "      <td>None</td>\n",
       "      <td>1000</td>\n",
       "      <td>l2</td>\n",
       "      <td>saga</td>\n",
       "    </tr>\n",
       "    <tr>\n",
       "      <th>0</th>\n",
       "      <td>0.845517</td>\n",
       "      <td>0.866947</td>\n",
       "      <td>0.002774</td>\n",
       "      <td>4.0</td>\n",
       "      <td>None</td>\n",
       "      <td>1000</td>\n",
       "      <td>l2</td>\n",
       "      <td>saga</td>\n",
       "    </tr>\n",
       "    <tr>\n",
       "      <th>1</th>\n",
       "      <td>0.684959</td>\n",
       "      <td>0.687134</td>\n",
       "      <td>0.002303</td>\n",
       "      <td>4.0</td>\n",
       "      <td>balanced</td>\n",
       "      <td>1000</td>\n",
       "      <td>l2</td>\n",
       "      <td>saga</td>\n",
       "    </tr>\n",
       "    <tr>\n",
       "      <th>11</th>\n",
       "      <td>0.672480</td>\n",
       "      <td>0.672757</td>\n",
       "      <td>0.009248</td>\n",
       "      <td>12.0</td>\n",
       "      <td>balanced</td>\n",
       "      <td>1000</td>\n",
       "      <td>l2</td>\n",
       "      <td>saga</td>\n",
       "    </tr>\n",
       "    <tr>\n",
       "      <th>7</th>\n",
       "      <td>0.670251</td>\n",
       "      <td>0.675403</td>\n",
       "      <td>0.060951</td>\n",
       "      <td>8.0</td>\n",
       "      <td>balanced</td>\n",
       "      <td>1000</td>\n",
       "      <td>l2</td>\n",
       "      <td>saga</td>\n",
       "    </tr>\n",
       "    <tr>\n",
       "      <th>3</th>\n",
       "      <td>0.648400</td>\n",
       "      <td>0.650466</td>\n",
       "      <td>0.016058</td>\n",
       "      <td>5.0</td>\n",
       "      <td>balanced</td>\n",
       "      <td>1000</td>\n",
       "      <td>l2</td>\n",
       "      <td>saga</td>\n",
       "    </tr>\n",
       "  </tbody>\n",
       "</table>\n",
       "</div>"
      ],
      "text/plain": [
       "    mean_test_score  mean_train_score  std_test_score  param_C  \\\n",
       "2          0.854451          0.869154        0.006017      5.0   \n",
       "4          0.852693          0.871818        0.008320      6.0   \n",
       "10         0.852689          0.881531        0.010645     12.0   \n",
       "8          0.852395          0.881226        0.010535     10.0   \n",
       "6          0.851878          0.878013        0.010625      8.0   \n",
       "0          0.845517          0.866947        0.002774      4.0   \n",
       "1          0.684959          0.687134        0.002303      4.0   \n",
       "11         0.672480          0.672757        0.009248     12.0   \n",
       "7          0.670251          0.675403        0.060951      8.0   \n",
       "3          0.648400          0.650466        0.016058      5.0   \n",
       "\n",
       "   param_class_weight  param_max_iter param_penalty param_solver  \n",
       "2                None            1000            l2         saga  \n",
       "4                None            1000            l2         saga  \n",
       "10               None            1000            l2         saga  \n",
       "8                None            1000            l2         saga  \n",
       "6                None            1000            l2         saga  \n",
       "0                None            1000            l2         saga  \n",
       "1            balanced            1000            l2         saga  \n",
       "11           balanced            1000            l2         saga  \n",
       "7            balanced            1000            l2         saga  \n",
       "3            balanced            1000            l2         saga  "
      ]
     },
     "metadata": {},
     "output_type": "display_data"
    }
   ],
   "source": [
    "param_grid_fine_tune3 = {\n",
    "    'C': [4.0, 5.0, 6.0, 8.0, 10.0, 12.0],\n",
    "    'solver': ['saga'],\n",
    "    'penalty': ['l2'],\n",
    "    'class_weight': [None, 'balanced'],\n",
    "    'max_iter': [1000]\n",
    "}\n",
    "\n",
    "\n",
    "logreg_model = LogisticRegression()\n",
    "grid, results_df = run_grid_search(X_train, y_train, logreg_model, param_grid_fine_tune3)"
   ]
  },
  {
   "cell_type": "markdown",
   "id": "8edaa100",
   "metadata": {},
   "source": [
    "### Melhor Modelo\n"
   ]
  },
  {
   "cell_type": "code",
   "execution_count": 17,
   "id": "2b1d4d10",
   "metadata": {},
   "outputs": [],
   "source": [
    "best_logreg = LogisticRegression(\n",
    "    C=5.0,\n",
    "    class_weight=None,\n",
    "    max_iter=500,\n",
    "    penalty='l2',\n",
    "    solver='saga'\n",
    ")\n",
    "best_logreg.fit(X_train, y_train)\n",
    "y_pred = best_logreg.predict(X_val)"
   ]
  },
  {
   "cell_type": "code",
   "execution_count": 18,
   "id": "c9a9f4bd",
   "metadata": {},
   "outputs": [
    {
     "name": "stdout",
     "output_type": "stream",
     "text": [
      "==== Avaliação Global (Logistic Regression) ====\n",
      "Acurácia:         0.9799\n",
      "Precisão:         0.8609\n",
      "Recall (TPR):     0.7990\n",
      "F1-Score:         0.8199\n",
      "FPR (média):      0.0072\n",
      "FNR (média):      0.2010\n",
      "RMSE:             0.4642\n",
      "AUC (ROC):        0.9952\n",
      "\n",
      "==== Relatório por Categoria ====\n",
      "              precision    recall  f1-score   support\n",
      "\n",
      "         DoS     0.9910    0.9816    0.9863      9186\n",
      "       Probe     0.9699    0.9524    0.9610      2331\n",
      "         R2L     0.7662    0.7739    0.7700       199\n",
      "         U2R     0.6000    0.3000    0.4000        10\n",
      "      normal     0.9775    0.9871    0.9823     13469\n",
      "\n",
      "    accuracy                         0.9799     25195\n",
      "   macro avg     0.8609    0.7990    0.8199     25195\n",
      "weighted avg     0.9799    0.9799    0.9799     25195\n",
      "\n"
     ]
    },
    {
     "data": {
      "image/png": "[encoded data removed]",
      "text/plain": [
       "<Figure size 1000x800 with 1 Axes>"
      ]
     },
     "metadata": {},
     "output_type": "display_data"
    }
   ],
   "source": [
    "# Label encoding\n",
    "le = LabelEncoder()\n",
    "y_val_enc = le.fit_transform(y_val)\n",
    "y_pred_enc = le.transform(y_pred)\n",
    "\n",
    "# Probabilidades para AUC\n",
    "y_proba = best_logreg.predict_proba(X_val)\n",
    "\n",
    "# Métricas principais\n",
    "accuracy = accuracy_score(y_val, y_pred)\n",
    "precision = precision_score(y_val, y_pred, average='macro')\n",
    "recall = recall_score(y_val, y_pred, average='macro')\n",
    "f1 = f1_score(y_val, y_pred, average='macro')\n",
    "rmse = np.sqrt(mean_squared_error(y_val_enc, y_pred_enc))\n",
    "\n",
    "# FPR e FNR\n",
    "cm = confusion_matrix(y_val_enc, y_pred_enc)\n",
    "FP = cm.sum(axis=0) - np.diag(cm)\n",
    "FN = cm.sum(axis=1) - np.diag(cm)\n",
    "TP = np.diag(cm)\n",
    "TN = cm.sum() - (FP + FN + TP)\n",
    "\n",
    "fpr = np.mean(FP / (FP + TN + 1e-10))\n",
    "fnr = np.mean(FN / (FN + TP + 1e-10))\n",
    "tpr = recall  # já calculado\n",
    "\n",
    "# AUC (ROC)\n",
    "try:\n",
    "    auc = roc_auc_score(y_val_enc, y_proba, multi_class='ovr', average='macro')\n",
    "except Exception:\n",
    "    auc = None\n",
    "\n",
    "# Impressão dos resultados\n",
    "print(\"==== Avaliação Global (Logistic Regression) ====\")\n",
    "print(f\"Acurácia:         {accuracy:.4f}\")\n",
    "print(f\"Precisão:         {precision:.4f}\")\n",
    "print(f\"Recall (TPR):     {recall:.4f}\")\n",
    "print(f\"F1-Score:         {f1:.4f}\")\n",
    "print(f\"FPR (média):      {fpr:.4f}\")\n",
    "print(f\"FNR (média):      {fnr:.4f}\")\n",
    "print(f\"RMSE:             {rmse:.4f}\")\n",
    "print(f\"AUC (ROC):        {auc:.4f}\" if auc is not None else \"AUC (ROC):        Não aplicável\")\n",
    "\n",
    "print(\"\\n==== Relatório por Categoria ====\")\n",
    "print(classification_report(y_val, y_pred, digits=4))\n",
    "\n",
    "# Matriz de confusão com labels\n",
    "labels = sorted(y_val.unique())\n",
    "cm = confusion_matrix(y_val, y_pred, labels=labels)\n",
    "\n",
    "fig, ax = plt.subplots(figsize=(10, 8))\n",
    "disp = ConfusionMatrixDisplay(confusion_matrix=cm, display_labels=labels)\n",
    "disp.plot(cmap=\"Blues\", xticks_rotation=45, ax=ax, colorbar=False)\n",
    "plt.title(\"Matriz de Confusão - Logistic Regression\")\n",
    "plt.grid(False)\n",
    "plt.tight_layout()\n",
    "plt.show()"
   ]
  },
  {
   "cell_type": "code",
   "execution_count": 19,
   "id": "b74d16dc",
   "metadata": {},
   "outputs": [
    {
     "name": "stdout",
     "output_type": "stream",
     "text": [
      "==== Relatório Binário (normal vs attack) ====\n",
      "              precision    recall  f1-score   support\n",
      "\n",
      "      normal     0.9775    0.9871    0.9823     13469\n",
      "      attack     0.9850    0.9739    0.9794     11726\n",
      "\n",
      "    accuracy                         0.9809     25195\n",
      "   macro avg     0.9812    0.9805    0.9808     25195\n",
      "weighted avg     0.9810    0.9809    0.9809     25195\n",
      "\n"
     ]
    },
    {
     "data": {
      "image/png": "[encoded data removed]",
      "text/plain": [
       "<Figure size 600x500 with 1 Axes>"
      ]
     },
     "metadata": {},
     "output_type": "display_data"
    }
   ],
   "source": [
    "y_val_bin = y_val.apply(lambda x: 0 if x == \"normal\" else 1)\n",
    "y_pred_bin = pd.Series(y_pred, index=y_val.index).apply(lambda x: 0 if x == \"normal\" else 1)\n",
    "\n",
    "# Relatório binário\n",
    "print(\"==== Relatório Binário (normal vs attack) ====\")\n",
    "print(classification_report(y_val_bin, y_pred_bin, target_names=[\"normal\", \"attack\"], digits=4))\n",
    "\n",
    "# Matriz de confusão binária\n",
    "cm_bin = confusion_matrix(y_val_bin, y_pred_bin)\n",
    "disp = ConfusionMatrixDisplay(confusion_matrix=cm_bin, display_labels=[\"normal\", \"attack\"])\n",
    "\n",
    "fig, ax = plt.subplots(figsize=(6, 5))\n",
    "disp.plot(cmap=\"Blues\", ax=ax, colorbar=False)\n",
    "plt.title(\"Matriz de Confusão Binária - Logistic Regression (normal vs attack)\")\n",
    "plt.grid(False)\n",
    "plt.tight_layout()\n",
    "plt.show()"
   ]
  },
  {
   "cell_type": "markdown",
   "id": "3d2ca900",
   "metadata": {},
   "source": [
    "### Teste KDDTest+"
   ]
  },
  {
   "cell_type": "code",
   "execution_count": 20,
   "id": "0d509101",
   "metadata": {},
   "outputs": [],
   "source": [
    "best_logreg = LogisticRegression(\n",
    "    C=5.0,\n",
    "    class_weight=None,\n",
    "    max_iter=500,\n",
    "    penalty='l2',\n",
    "    solver='saga'\n",
    ")\n",
    "\n",
    "best_logreg.fit(X_train_final, y_train_final)\n",
    "y_pred = best_logreg.predict(X_test_final)"
   ]
  },
  {
   "cell_type": "code",
   "execution_count": 21,
   "id": "054eae55",
   "metadata": {},
   "outputs": [
    {
     "name": "stdout",
     "output_type": "stream",
     "text": [
      "==== Avaliação Global no Conjunto de Teste (Logistic Regression) ====\n",
      "Acurácia:         0.7469\n",
      "Precisão:         0.8380\n",
      "Recall (TPR):     0.5376\n",
      "F1-Score:         0.5568\n",
      "FPR (média):      0.0849\n",
      "FNR (média):      0.4624\n",
      "RMSE:             1.4369\n",
      "AUC (ROC):        0.9247\n",
      "\n",
      "==== Relatório por Categoria ====\n",
      "              precision    recall  f1-score   support\n",
      "\n",
      "         DoS     0.9669    0.8101    0.8816      7458\n",
      "       Probe     0.7256    0.6881    0.7064      2421\n",
      "         R2L     0.9658    0.0391    0.0752      2887\n",
      "         U2R     0.8824    0.2239    0.3571        67\n",
      "      normal     0.6492    0.9269    0.7636      9711\n",
      "\n",
      "    accuracy                         0.7469     22544\n",
      "   macro avg     0.8380    0.5376    0.5568     22544\n",
      "weighted avg     0.8037    0.7469    0.7071     22544\n",
      "\n"
     ]
    },
    {
     "data": {
      "image/png": "[encoded data removed]",
      "text/plain": [
       "<Figure size 1000x800 with 1 Axes>"
      ]
     },
     "metadata": {},
     "output_type": "display_data"
    }
   ],
   "source": [
    "le = LabelEncoder()\n",
    "y_test_enc = le.fit_transform(y_test_final)\n",
    "y_pred_enc = le.transform(y_pred)\n",
    "y_proba = best_logreg.predict_proba(X_test_final)\n",
    "\n",
    "# Métricas principais\n",
    "accuracy = accuracy_score(y_test_final, y_pred)\n",
    "precision = precision_score(y_test_final, y_pred, average='macro')\n",
    "recall = recall_score(y_test_final, y_pred, average='macro')\n",
    "f1 = f1_score(y_test_final, y_pred, average='macro')\n",
    "rmse = np.sqrt(mean_squared_error(y_test_enc, y_pred_enc))\n",
    "\n",
    "# Confusion matrix para FPR e FNR\n",
    "cm = confusion_matrix(y_test_enc, y_pred_enc)\n",
    "FP = cm.sum(axis=0) - np.diag(cm)\n",
    "FN = cm.sum(axis=1) - np.diag(cm)\n",
    "TP = np.diag(cm)\n",
    "TN = cm.sum() - (FP + FN + TP)\n",
    "\n",
    "fpr = np.mean(FP / (FP + TN + 1e-10))\n",
    "fnr = np.mean(FN / (FN + TP + 1e-10))\n",
    "tpr = recall\n",
    "\n",
    "# AUC para multi-class\n",
    "try:\n",
    "    auc = roc_auc_score(y_test_enc, y_proba, multi_class='ovr', average='macro')\n",
    "except Exception:\n",
    "    auc = None\n",
    "\n",
    "# Exibição\n",
    "print(\"==== Avaliação Global no Conjunto de Teste (Logistic Regression) ====\")\n",
    "print(f\"Acurácia:         {accuracy:.4f}\")\n",
    "print(f\"Precisão:         {precision:.4f}\")\n",
    "print(f\"Recall (TPR):     {recall:.4f}\")\n",
    "print(f\"F1-Score:         {f1:.4f}\")\n",
    "print(f\"FPR (média):      {fpr:.4f}\")\n",
    "print(f\"FNR (média):      {fnr:.4f}\")\n",
    "print(f\"RMSE:             {rmse:.4f}\")\n",
    "print(f\"AUC (ROC):        {auc:.4f}\" if auc is not None else \"AUC (ROC):        Não aplicável\")\n",
    "\n",
    "# Relatório detalhado por categoria\n",
    "print(\"\\n==== Relatório por Categoria ====\")\n",
    "print(classification_report(y_test_final, y_pred, digits=4))\n",
    "\n",
    "# Matriz de confusão multiclass\n",
    "labels = sorted(y_test_final.unique())\n",
    "cm = confusion_matrix(y_test_final, y_pred, labels=labels)\n",
    "\n",
    "fig, ax = plt.subplots(figsize=(10, 8))\n",
    "disp = ConfusionMatrixDisplay(confusion_matrix=cm, display_labels=labels)\n",
    "disp.plot(cmap=\"Blues\", xticks_rotation=45, ax=ax, colorbar=False)\n",
    "plt.title(\"Matriz de Confusão - Logistic Regression (KDDTest+)\")\n",
    "plt.grid(False)\n",
    "plt.tight_layout()\n",
    "plt.show()"
   ]
  }
 ],
 "metadata": {
  "kernelspec": {
   "display_name": "ml-ids",
   "language": "python",
   "name": "python3"
  },
  "language_info": {
   "codemirror_mode": {
    "name": "ipython",
    "version": 3
   },
   "file_extension": ".py",
   "mimetype": "text/x-python",
   "name": "python",
   "nbconvert_exporter": "python",
   "pygments_lexer": "ipython3",
   "version": "3.11.11"
  }
 },
 "nbformat": 4,
 "nbformat_minor": 5
}
