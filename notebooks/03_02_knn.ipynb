{
 "cells": [
  {
   "cell_type": "code",
   "execution_count": 1,
   "id": "b66ca5c9",
   "metadata": {},
   "outputs": [],
   "source": [
    "import pandas as pd\n",
    "import numpy as np\n",
    "import matplotlib.pyplot as plt\n",
    "import seaborn as sns\n",
    "import warnings\n",
    "\n",
    "from sklearn.model_selection import train_test_split\n",
    "from sklearn.preprocessing import LabelEncoder\n",
    "from sklearn.metrics import (\n",
    "    classification_report, confusion_matrix, ConfusionMatrixDisplay,\n",
    "    accuracy_score, precision_score, recall_score, f1_score,\n",
    "    roc_auc_score, roc_curve, mean_squared_error\n",
    ")\n",
    "from sklearn.ensemble import RandomForestClassifier\n",
    "from sklearn.tree import DecisionTreeClassifier\n",
    "from sklearn.neighbors import KNeighborsClassifier\n",
    "from sklearn.linear_model import LogisticRegression\n",
    "from sklearn.neural_network import MLPClassifier\n",
    "\n",
    "warnings.filterwarnings(\"ignore\")\n"
   ]
  },
  {
   "cell_type": "code",
   "execution_count": null,
   "id": "37a973b4",
   "metadata": {},
   "outputs": [],
   "source": [
    "def load_dataset(scaler=\"minmax\", strategy=\"split\"):\n",
    "    \"\"\"\n",
    "    Carrega os datasets NSL-KDD com duas estratégias:\n",
    "    - 'split': carrega apenas o arquivo de treino e faz split em treino e validação\n",
    "    - 'merge': carrega treino e teste reais e faz codificação alinhada\n",
    "    \"\"\"\n",
    "    assert scaler in [\"minmax\", \"standard\"], \"Escala inválida\"\n",
    "    assert strategy in [\"split\", \"merge\"], \"Estratégia deve ser 'split' ou 'merge'\"\n",
    "    \n",
    "    base_path = f\"../data/final/{scaler}\"\n",
    "    train_path = f\"{base_path}/KDDTrain+_final_{scaler}.csv\"\n",
    "    test_path = f\"{base_path}/KDDTest+_final_{scaler}.csv\"\n",
    "\n",
    "    if strategy == \"split\":\n",
    "        df = pd.read_csv(train_path)\n",
    "        print(f\"[SPLIT] Escala usada: {scaler}\")\n",
    "        print(\"Dataset carregado:\", df.shape)\n",
    "\n",
    "        # Split em treino e validação\n",
    "        df_train, df_test = train_test_split(\n",
    "            df, test_size=0.2, random_state=1, stratify=df[\"attack_category\"]\n",
    "        )\n",
    "        print(\"Train split:\", df_train.shape)\n",
    "        print(\"Validação split:\", df_test.shape)\n",
    "\n",
    "        return df_train.reset_index(drop=True), df_test.reset_index(drop=True)\n",
    "\n",
    "    else:  # strategy == \"merge\"\n",
    "        df_train = pd.read_csv(train_path)\n",
    "        df_test = pd.read_csv(test_path)\n",
    "\n",
    "        df_train[\"__origin__\"] = \"train\"\n",
    "        df_test[\"__origin__\"] = \"test\"\n",
    "\n",
    "        df_all = pd.concat([df_train, df_test], axis=0)\n",
    "\n",
    "        origin = df_all[\"__origin__\"]\n",
    "        target = df_all[\"attack_category\"]\n",
    "        df_all = df_all.drop(columns=[\"__origin__\", \"attack_category\"])\n",
    "\n",
    "        df_all = pd.get_dummies(df_all)\n",
    "        df_all = df_all.fillna(0)\n",
    "\n",
    "        df_all[\"attack_category\"] = target.values\n",
    "        df_all[\"__origin__\"] = origin.values\n",
    "\n",
    "        df_train_final = df_all[df_all[\"__origin__\"] == \"train\"].drop(columns=\"__origin__\")\n",
    "        df_test_final = df_all[df_all[\"__origin__\"] == \"test\"].drop(columns=\"__origin__\")\n",
    "\n",
    "        print(f\"[MERGE] Escala usada: {scaler}\")\n",
    "        print(\"Train final:\", df_train_final.shape)\n",
    "        print(\"Test final :\", df_test_final.shape)\n",
    "\n",
    "        return df_train_final.reset_index(drop=True), df_test_final.reset_index(drop=True)"
   ]
  },
  {
   "cell_type": "code",
   "execution_count": 3,
   "id": "7760709d",
   "metadata": {},
   "outputs": [
    {
     "name": "stdout",
     "output_type": "stream",
     "text": [
      "[SPLIT] Escala usada: minmax\n",
      "Dataset carregado: (125973, 62)\n",
      "Train split: (100778, 62)\n",
      "Validação split: (25195, 62)\n",
      "[MERGE] Escala usada: minmax\n",
      "Train final: (125973, 64)\n",
      "Test final : (22544, 64)\n"
     ]
    }
   ],
   "source": [
    "# minmax or standard\n",
    "# Estratégia de split (KDDTrain+ somente)\n",
    "\n",
    "df_train, df_val = load_dataset(\"minmax\", strategy=\"split\")\n",
    "\n",
    "X_train = df_train.drop(columns=[\"attack_category\"])\n",
    "y_train = df_train[\"attack_category\"]\n",
    "\n",
    "X_val = df_val.drop(columns=[\"attack_category\"])\n",
    "y_val = df_val[\"attack_category\"]\n",
    "\n",
    "# Estratégia para avaliação final real (KDDTrain+ e KDDTest+ juntos)\n",
    "df_train_final, df_test_final = load_dataset(\"minmax\", strategy=\"merge\")\n",
    "\n",
    "X_train_final = df_train_final.drop(columns=[\"attack_category\"])\n",
    "y_train_final = df_train_final[\"attack_category\"]\n",
    "\n",
    "X_test_final = df_test_final.drop(columns=[\"attack_category\"])\n",
    "y_test_final = df_test_final[\"attack_category\"]"
   ]
  },
  {
   "cell_type": "markdown",
   "id": "6b48c74b",
   "metadata": {},
   "source": [
    "## 2. k-NN"
   ]
  },
  {
   "cell_type": "code",
   "execution_count": null,
   "id": "8bbf92ca",
   "metadata": {},
   "outputs": [],
   "source": []
  }
 ],
 "metadata": {
  "kernelspec": {
   "display_name": "ml-ids",
   "language": "python",
   "name": "python3"
  },
  "language_info": {
   "codemirror_mode": {
    "name": "ipython",
    "version": 3
   },
   "file_extension": ".py",
   "mimetype": "text/x-python",
   "name": "python",
   "nbconvert_exporter": "python",
   "pygments_lexer": "ipython3",
   "version": "3.11.11"
  }
 },
 "nbformat": 4,
 "nbformat_minor": 5
}
