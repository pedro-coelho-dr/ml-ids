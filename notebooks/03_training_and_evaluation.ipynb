{
 "cells": [
  {
   "cell_type": "code",
   "execution_count": 1,
   "id": "b66ca5c9",
   "metadata": {},
   "outputs": [],
   "source": [
    "import pandas as pd\n",
    "import numpy as np\n",
    "import matplotlib.pyplot as plt\n",
    "import seaborn as sns\n",
    "\n",
    "from sklearn.model_selection import train_test_split\n",
    "from sklearn.preprocessing import LabelEncoder\n",
    "from sklearn.metrics import (\n",
    "    classification_report,\n",
    "    confusion_matrix,\n",
    "    accuracy_score,\n",
    "    precision_score,\n",
    "    recall_score,\n",
    "    f1_score\n",
    ")\n",
    "\n",
    "# Modelos\n",
    "from sklearn.ensemble import RandomForestClassifier\n",
    "from sklearn.tree import DecisionTreeClassifier\n",
    "from sklearn.neighbors import KNeighborsClassifier\n",
    "from sklearn.linear_model import LogisticRegression\n",
    "from sklearn.neural_network import MLPClassifier\n",
    "\n",
    "import warnings\n",
    "warnings.filterwarnings(\"ignore\")\n"
   ]
  },
  {
   "cell_type": "code",
   "execution_count": null,
   "id": "03bfc6fc",
   "metadata": {},
   "outputs": [
    {
     "name": "stdout",
     "output_type": "stream",
     "text": [
      "Escala usada: minmax\n",
      "Treino: (125973, 63)\n",
      "Teste : (22544, 63)\n"
     ]
    }
   ],
   "source": [
    "def load_dataset(scaler=\"minmax\"):\n",
    "    assert scaler in [\"minmax\", \"standard\"], \"Escala inválida\"\n",
    "    base_path = f\"../data/final/{scaler}\"\n",
    "    \n",
    "    df_train = pd.read_csv(f\"{base_path}/KDDTrain+_final_{scaler}.csv\")\n",
    "    df_test = pd.read_csv(f\"{base_path}/KDDTest+_final_{scaler}.csv\")\n",
    "    \n",
    "    print(f\"Escala usada: {scaler}\")\n",
    "    print(\"Treino:\", df_train.shape)\n",
    "    print(\"Teste :\", df_test.shape)\n",
    "    \n",
    "    return df_train, df_test\n",
    "\n",
    "# MinMax\n",
    "df_train, df_test = load_dataset(\"minmax\")\n",
    "\n",
    "# StandardScaler\n",
    "# df_train, df_test = load_dataset(\"standard\")\n"
   ]
  }
 ],
 "metadata": {
  "kernelspec": {
   "display_name": "ml-ids",
   "language": "python",
   "name": "python3"
  },
  "language_info": {
   "codemirror_mode": {
    "name": "ipython",
    "version": 3
   },
   "file_extension": ".py",
   "mimetype": "text/x-python",
   "name": "python",
   "nbconvert_exporter": "python",
   "pygments_lexer": "ipython3",
   "version": "3.11.11"
  }
 },
 "nbformat": 4,
 "nbformat_minor": 5
}
